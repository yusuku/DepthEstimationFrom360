{
  "nbformat": 4,
  "nbformat_minor": 0,
  "metadata": {
    "colab": {
      "provenance": [],
      "authorship_tag": "ABX9TyOifm5fhUIHZe4BYeKA7SAC",
      "include_colab_link": true
    },
    "kernelspec": {
      "name": "python3",
      "display_name": "Python 3"
    },
    "language_info": {
      "name": "python"
    }
  },
  "cells": [
    {
      "cell_type": "markdown",
      "metadata": {
        "id": "view-in-github",
        "colab_type": "text"
      },
      "source": [
        "<a href=\"https://colab.research.google.com/github/yusuku/DepthEstimationFrom360/blob/main/U_net.ipynb\" target=\"_parent\"><img src=\"https://colab.research.google.com/assets/colab-badge.svg\" alt=\"Open In Colab\"/></a>"
      ]
    },
    {
      "cell_type": "code",
      "execution_count": 1,
      "metadata": {
        "id": "ODSepLwFCh9v"
      },
      "outputs": [],
      "source": [
        "import torch\n",
        "import torch.nn as nn\n",
        "from torchvision import models\n",
        "from torch.nn.functional import relu"
      ]
    },
    {
      "cell_type": "code",
      "source": [
        "class UNet(nn.Module):\n",
        "  def __init__(self,n_class):\n",
        "    super().__init__()\n",
        "\n",
        "    # 572,572,3\n",
        "    self.e11=nn.Conv2d(3,64,kernel_size=3,padding=1)\n",
        "    self.e12=nn.Conv2d(64,64,kernel_size=3,padding=1)\n",
        "    self.pool1=nn.MaxPool2d(kernel_size=2,stride=2)\n",
        "\n",
        "    # 263,263,64\n",
        "    self.e21=nn.Conv2d(64,128,kernel_size=3,padding=1)\n",
        "    self.e22=nn.Conv2d(128,128,kernel_size=3,padding=1)\n",
        "    self.pool2=nn.MaxPool2d(kernel_size=2,stride=2)\n",
        "\n",
        "    #131,131,128\n",
        "    self.e31=nn.Conv2d(128,256,kernel_size=3,padding=1)\n",
        "    self.e32=nn.Conv2d(256,256,kernel_size=3,padding=1)\n",
        "    self.pool3=nn.MaxPool2d(kernel_size=2,stride=2)\n",
        "\n",
        "    #65,65,256\n",
        "    self.e41=nn.Conv2d(256,512,kernel_size=3,padding=1)\n",
        "    self.e42=nn.Conv2d(512,512,kernel_size=3,padding=1)\n",
        "    self.pool4=nn.MaxPool2d(kernel_size=2,stride=2)\n",
        "\n",
        "    #32,32,512\n",
        "    self.e51=nn.Conv2d(512,1024,kernel_size=3,padding=1)\n",
        "    self.e52=nn.Conv2d(1024,1024,kernel_size=3,padding=1)\n",
        "\n",
        "\n",
        "    #input 32,32,1024\n",
        "    # Decoder\n",
        "    self.upconv1=nn.ConvTranspose2d(1024,512,kernel_size=2,stride=2)\n",
        "    self.d11=nn.Conv2d(1024,512,kernel_size=3,padding=1)\n",
        "    self.d12=nn.Conv2d(512,512,kernel_size=3,padding=1)\n",
        "\n",
        "    #input 64,64,512\n",
        "    self.upconv2=nn.ConvTranspose2d(512,256,kernel_size=2,stride=2)\n",
        "    self.d21=nn.Conv2d(512,256,kernel_size=3,padding=1)\n",
        "    self.d22=nn.Conv2d(256,256,kernel_size=3,padding=1)\n",
        "\n",
        "    #input 128,128,256\n",
        "    self.upconv3=nn.ConvTranspose2d(256,128,kernel_size=2,stride=2)\n",
        "    self.d31=nn.Conv2d(256,128,kernel_size=3,padding=1)\n",
        "    self.d32=nn.Conv2d(128,128,kernel_size=3,padding=1)\n",
        "\n",
        "    #input 256,256,128\n",
        "    self.upconv4=nn.ConvTranspose2d(128,64,kernel_size=2,stride=2)\n",
        "    self.d41=nn.Conv2d(128,64,kernel_size=3,padding=1)\n",
        "    self.d42=nn.Conv2d(64,64,kernel_size=3,padding=1)\n",
        "\n",
        "    #input 512,512,64\n",
        "    # Output layer\n",
        "    self.outconv=nn.Conv2d(64,n_class,kernel_size=1,padding=0)\n",
        "\n",
        "\n",
        "  def forward(self,x):\n",
        "    xe11=relu(self.e11(x))\n",
        "    xe12=relu(self.e12(xe11))\n",
        "    xp1=self.pool1(xe12)\n",
        "\n",
        "    xe21=relu(self.e21(xp1))\n",
        "    xe22=relu(self.e22(xe21))\n",
        "    xp2=self.pool2(xe22)\n",
        "\n",
        "    xe31=relu(self.e31(xp2))\n",
        "    xe32=relu(self.e32(xe31))\n",
        "    xp3=self.pool3(xe32)\n",
        "\n",
        "    xe41=relu(self.e41(xp3))\n",
        "    xe42=relu(self.e42(xe41))\n",
        "    xp4=self.pool4(xe42)\n",
        "\n",
        "    xe51=relu(self.e51(xp4))\n",
        "    xe52=relu(self.e52(xe51))\n",
        "\n",
        "    xd1=relu(self.upconv1(xe52))\n",
        "    xd1=torch.cat((xd1,xe42),dim=1)\n",
        "    xd11=relu(self.d11(xd1))\n",
        "    xd12=relu(self.d12(xd11))\n",
        "\n",
        "    xd2=relu(self.upconv2(xd12))\n",
        "    xd2=torch.cat((xd2,xe32),dim=1)\n",
        "    xd21=relu(self.d21(xd2))\n",
        "    xd22=relu(self.d22(xd21))\n",
        "\n",
        "    xd3=relu(self.upconv3(xd22))\n",
        "    xd3=torch.cat((xd3,xe22),dim=1)\n",
        "    xd31=relu(self.d31(xd3))\n",
        "    xd32=relu(self.d32(xd31))\n",
        "\n",
        "    xd4=relu(self.upconv4(xd32))\n",
        "    xd4=torch.cat((xd4,xe12),dim=1)\n",
        "    xd41=relu(self.d41(xd4))\n",
        "    xd42=relu(self.d42(xd41))\n",
        "\n",
        "    x=self.outconv(xd42)\n",
        "\n",
        "    return x\n"
      ],
      "metadata": {
        "id": "YKW-7VRACn5g"
      },
      "execution_count": 14,
      "outputs": []
    },
    {
      "cell_type": "code",
      "source": [
        "x=torch.rand((1,3,512,512))"
      ],
      "metadata": {
        "id": "qon-kC7KEIlQ"
      },
      "execution_count": 16,
      "outputs": []
    },
    {
      "cell_type": "code",
      "source": [
        "unet=UNet(3)\n",
        "output=unet(x)"
      ],
      "metadata": {
        "id": "JUrHkZi_Ebzy"
      },
      "execution_count": 17,
      "outputs": []
    },
    {
      "cell_type": "code",
      "source": [],
      "metadata": {
        "id": "cFJP4qdCEcTf"
      },
      "execution_count": null,
      "outputs": []
    }
  ]
}