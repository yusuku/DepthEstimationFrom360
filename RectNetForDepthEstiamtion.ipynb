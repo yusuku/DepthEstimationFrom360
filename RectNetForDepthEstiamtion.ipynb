{
  "nbformat": 4,
  "nbformat_minor": 0,
  "metadata": {
    "colab": {
      "provenance": [],
      "authorship_tag": "ABX9TyNWmlVbeDDBDuwTEYNRp+11",
      "include_colab_link": true
    },
    "kernelspec": {
      "name": "python3",
      "display_name": "Python 3"
    },
    "language_info": {
      "name": "python"
    }
  },
  "cells": [
    {
      "cell_type": "markdown",
      "metadata": {
        "id": "view-in-github",
        "colab_type": "text"
      },
      "source": [
        "<a href=\"https://colab.research.google.com/github/yusuku/DepthEstimationFrom360/blob/main/RectNetForDepthEstiamtion.ipynb\" target=\"_parent\"><img src=\"https://colab.research.google.com/assets/colab-badge.svg\" alt=\"Open In Colab\"/></a>"
      ]
    },
    {
      "cell_type": "code",
      "execution_count": null,
      "metadata": {
        "id": "54YkM3dABgBb"
      },
      "outputs": [],
      "source": [
        "import tensorflow as tf"
      ]
    },
    {
      "source": [
        "input_shape = (224, 224, 3)\n",
        "input_tensor = tf.keras.layers.Input(shape=input_shape)\n",
        "\n",
        "# Apply ELU activation within the Conv2D layers\n",
        "input0_0_out = tf.keras.layers.Conv2D(8, (3, 9), activation='elu')(input_tensor)\n",
        "input0_1_out = tf.keras.layers.Conv2D(8, (5,11), activation='elu')(input_tensor)\n",
        "input0_2_out = tf.keras.layers.Conv2D(8, (5, 7), activation='elu')(input_tensor)\n",
        "input0_3_out = tf.keras.layers.Conv2D(8, (7, 7), activation='elu')(input_tensor)\n",
        "\n",
        "# Concatenate the outputs\n",
        "input0_out_cat=tf.keras.layers.Concatenate()([input0_0_out,input0_1_out,input0_2_out,input0_3_out])\n",
        "\n",
        "input1_0_out = tf.keras.layers.Conv2D(16, (3,9), activation='elu')(input0_out_cat)\n",
        "input1_1_out = tf.keras.layers.Conv2D(16, (3,7), activation='elu')(input0_out_cat)\n",
        "input1_2_out = tf.keras.layers.Conv2D(16, (3,5), activation='elu')(input0_out_cat)\n",
        "input1_3_out = tf.keras.layers.Conv2D(16, (5,5), activation='elu')(input0_out_cat)\n",
        "\n",
        "input1_out_cat=tf.keras.layers.Concatenate()([input0_0_out,input0_1_out,input0_2_out,input0_3_out])\n",
        "\n",
        "encoder0_0_out = tf.keras.layers.Conv2D(128, (3,3),strides=2, activation='elu')(input1_out_cat)\n",
        "encoder0_1_out = tf.keras.layers.Conv2D(128, (3,3), activation='elu')(encoder0_0_out)\n",
        "encoder0_2_out = tf.keras.layers.Conv2D(128, (3,3), activation='elu')(encoder0_1_out)\n",
        "\n",
        "encoder1_0_out = tf.keras.layers.Conv2D(256, (3,3),strides=2, activation='elu')(encoder0_2_out)\n",
        "encoder1_1_out = tf.keras.layers.Conv2D(256, (3,3),strides=1, activation='elu')(encoder1_0_out)\n",
        "encoder1_2_out = tf.keras.layers.Conv2D(256, (3,3),strides=1, activation='elu')(encoder1_1_out)\n",
        "encoder1_3_out = tf.keras.layers.Conv2D(256, (3,3),strides=1, activation='elu')(encoder1_1_out)\n",
        "\n",
        "encoder1_out_cat=tf.keras.layers.Concatenate()([encoder1_1_out,encoder1_3_out])\n",
        "\n",
        "\n",
        "encoder2_0_out = tf.keras.layers.Conv2D(512, (3,3),strides=1,dilation_rate=6 ,activation='elu')(encoder1_out_cat)\n",
        "encoder2_1_out = tf.keras.layers.Conv2D(512, (3,3),strides=1,dilation_rate=16 , activation='elu')(encoder2_0_out)\n",
        "encoder2_2_out = tf.keras.layers.Conv2D(512, (1,1),strides=1, activation='elu',padding='same')(encoder2_1_out)\n",
        "\n",
        "encoder2_out_cat=tf.keras.layers.Concatenate()([encoder2_0_out,encoder2_2_out])\n",
        "\n",
        "decoder0_0_out = tf.keras.layers.Conv2DTranspose(256, (4,4),strides=2, activation='elu')(encoder2_out_cat)\n",
        "decoder0_1_out = tf.keras.layers.Conv2D(256, (5,5),strides=1 ,activation='elu')(decoder0_0_out)\n",
        "\n",
        "\n",
        "\n",
        "decoder1_0_out = tf.keras.layers.Conv2DTranspose(128, (4,4),strides=2, activation='elu')(decoder0_1_out)\n",
        "decoder1_1_out = tf.keras.layers.Conv2D(128, (5,5),strides=1 ,activation='elu')(decoder1_0_out)\n",
        "\n",
        "dropout_decoder0_1_out=tf.keras.layers.Dropout(0.05)(decoder0_1_out)\n",
        "dropout_decoder0_1_out=tf.keras.layers.Conv2D(128, (3,3),strides=1 )(decoder1_0_out)\n",
        "\n",
        "decoder1_out_cat=tf.keras.layers.Concatenate()([dropout_decoder0_1_out,decoder1_1_out])\n",
        "\n",
        "decoder2_0_out =tf.keras.layers.Conv2D(64, (1,1),strides=1, activation='elu')(decoder1_out_cat)\n",
        "\n",
        "\n",
        "output=tf.keras.layers.Dropout(0.08)(decoder2_0_out)\n",
        "output=tf.keras.layers.Conv2D(1, (1,1),strides=1)(output)\n",
        "\n",
        "model = tf.keras.Model(inputs=input_tensor, outputs=output)\n",
        "model.summary()\n"
      ],
      "cell_type": "code",
      "metadata": {
        "id": "W59MpyUfEjHz",
        "colab": {
          "base_uri": "https://localhost:8080/",
          "height": 442
        },
        "outputId": "149205ba-84ea-4250-8d3c-716e72e18eb4"
      },
      "execution_count": 12,
      "outputs": [
        {
          "output_type": "error",
          "ename": "ValueError",
          "evalue": "A `Concatenate` layer requires inputs with matching shapes except for the concatenation axis. Received: input_shape=[(None, 222, 216, 8), (None, 220, 214, 8), (None, 220, 218, 8), (None, 218, 218, 8)]",
          "traceback": [
            "\u001b[0;31m---------------------------------------------------------------------------\u001b[0m",
            "\u001b[0;31mValueError\u001b[0m                                Traceback (most recent call last)",
            "\u001b[0;32m<ipython-input-12-1293a8048dfb>\u001b[0m in \u001b[0;36m<cell line: 11>\u001b[0;34m()\u001b[0m\n\u001b[1;32m      9\u001b[0m \u001b[0;34m\u001b[0m\u001b[0m\n\u001b[1;32m     10\u001b[0m \u001b[0;31m# Concatenate the outputs\u001b[0m\u001b[0;34m\u001b[0m\u001b[0;34m\u001b[0m\u001b[0m\n\u001b[0;32m---> 11\u001b[0;31m \u001b[0minput0_out_cat\u001b[0m\u001b[0;34m=\u001b[0m\u001b[0mtf\u001b[0m\u001b[0;34m.\u001b[0m\u001b[0mkeras\u001b[0m\u001b[0;34m.\u001b[0m\u001b[0mlayers\u001b[0m\u001b[0;34m.\u001b[0m\u001b[0mConcatenate\u001b[0m\u001b[0;34m(\u001b[0m\u001b[0;34m)\u001b[0m\u001b[0;34m(\u001b[0m\u001b[0;34m[\u001b[0m\u001b[0minput0_0_out\u001b[0m\u001b[0;34m,\u001b[0m\u001b[0minput0_1_out\u001b[0m\u001b[0;34m,\u001b[0m\u001b[0minput0_2_out\u001b[0m\u001b[0;34m,\u001b[0m\u001b[0minput0_3_out\u001b[0m\u001b[0;34m]\u001b[0m\u001b[0;34m)\u001b[0m\u001b[0;34m\u001b[0m\u001b[0;34m\u001b[0m\u001b[0m\n\u001b[0m\u001b[1;32m     12\u001b[0m \u001b[0;34m\u001b[0m\u001b[0m\n\u001b[1;32m     13\u001b[0m \u001b[0minput1_0_out\u001b[0m \u001b[0;34m=\u001b[0m \u001b[0mtf\u001b[0m\u001b[0;34m.\u001b[0m\u001b[0mkeras\u001b[0m\u001b[0;34m.\u001b[0m\u001b[0mlayers\u001b[0m\u001b[0;34m.\u001b[0m\u001b[0mConv2D\u001b[0m\u001b[0;34m(\u001b[0m\u001b[0;36m16\u001b[0m\u001b[0;34m,\u001b[0m \u001b[0;34m(\u001b[0m\u001b[0;36m3\u001b[0m\u001b[0;34m,\u001b[0m\u001b[0;36m9\u001b[0m\u001b[0;34m)\u001b[0m\u001b[0;34m,\u001b[0m \u001b[0mactivation\u001b[0m\u001b[0;34m=\u001b[0m\u001b[0;34m'elu'\u001b[0m\u001b[0;34m)\u001b[0m\u001b[0;34m(\u001b[0m\u001b[0minput0_out_cat\u001b[0m\u001b[0;34m)\u001b[0m\u001b[0;34m\u001b[0m\u001b[0;34m\u001b[0m\u001b[0m\n",
            "\u001b[0;32m/usr/local/lib/python3.10/dist-packages/keras/src/utils/traceback_utils.py\u001b[0m in \u001b[0;36merror_handler\u001b[0;34m(*args, **kwargs)\u001b[0m\n\u001b[1;32m    120\u001b[0m             \u001b[0;31m# To get the full stack trace, call:\u001b[0m\u001b[0;34m\u001b[0m\u001b[0;34m\u001b[0m\u001b[0m\n\u001b[1;32m    121\u001b[0m             \u001b[0;31m# `keras.config.disable_traceback_filtering()`\u001b[0m\u001b[0;34m\u001b[0m\u001b[0;34m\u001b[0m\u001b[0m\n\u001b[0;32m--> 122\u001b[0;31m             \u001b[0;32mraise\u001b[0m \u001b[0me\u001b[0m\u001b[0;34m.\u001b[0m\u001b[0mwith_traceback\u001b[0m\u001b[0;34m(\u001b[0m\u001b[0mfiltered_tb\u001b[0m\u001b[0;34m)\u001b[0m \u001b[0;32mfrom\u001b[0m \u001b[0;32mNone\u001b[0m\u001b[0;34m\u001b[0m\u001b[0;34m\u001b[0m\u001b[0m\n\u001b[0m\u001b[1;32m    123\u001b[0m         \u001b[0;32mfinally\u001b[0m\u001b[0;34m:\u001b[0m\u001b[0;34m\u001b[0m\u001b[0;34m\u001b[0m\u001b[0m\n\u001b[1;32m    124\u001b[0m             \u001b[0;32mdel\u001b[0m \u001b[0mfiltered_tb\u001b[0m\u001b[0;34m\u001b[0m\u001b[0;34m\u001b[0m\u001b[0m\n",
            "\u001b[0;32m/usr/local/lib/python3.10/dist-packages/keras/src/layers/merging/concatenate.py\u001b[0m in \u001b[0;36mbuild\u001b[0;34m(self, input_shape)\u001b[0m\n\u001b[1;32m     95\u001b[0m                 )\n\u001b[1;32m     96\u001b[0m                 \u001b[0;32mif\u001b[0m \u001b[0mlen\u001b[0m\u001b[0;34m(\u001b[0m\u001b[0munique_dims\u001b[0m\u001b[0;34m)\u001b[0m \u001b[0;34m>\u001b[0m \u001b[0;36m1\u001b[0m\u001b[0;34m:\u001b[0m\u001b[0;34m\u001b[0m\u001b[0;34m\u001b[0m\u001b[0m\n\u001b[0;32m---> 97\u001b[0;31m                     \u001b[0;32mraise\u001b[0m \u001b[0mValueError\u001b[0m\u001b[0;34m(\u001b[0m\u001b[0merr_msg\u001b[0m\u001b[0;34m)\u001b[0m\u001b[0;34m\u001b[0m\u001b[0;34m\u001b[0m\u001b[0m\n\u001b[0m\u001b[1;32m     98\u001b[0m         \u001b[0mself\u001b[0m\u001b[0;34m.\u001b[0m\u001b[0mbuilt\u001b[0m \u001b[0;34m=\u001b[0m \u001b[0;32mTrue\u001b[0m\u001b[0;34m\u001b[0m\u001b[0;34m\u001b[0m\u001b[0m\n\u001b[1;32m     99\u001b[0m \u001b[0;34m\u001b[0m\u001b[0m\n",
            "\u001b[0;31mValueError\u001b[0m: A `Concatenate` layer requires inputs with matching shapes except for the concatenation axis. Received: input_shape=[(None, 222, 216, 8), (None, 220, 214, 8), (None, 220, 218, 8), (None, 218, 218, 8)]"
          ]
        }
      ]
    },
    {
      "cell_type": "markdown",
      "source": [],
      "metadata": {
        "id": "-9Bvbwm8M3Wf"
      }
    },
    {
      "cell_type": "markdown",
      "source": [],
      "metadata": {
        "id": "_JHNlG4vGcOj"
      }
    },
    {
      "cell_type": "code",
      "source": [],
      "metadata": {
        "id": "jEfamfLFCcYM"
      },
      "execution_count": null,
      "outputs": []
    }
  ]
}